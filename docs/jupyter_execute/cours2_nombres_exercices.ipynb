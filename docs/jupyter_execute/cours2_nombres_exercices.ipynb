{
 "cells": [
  {
   "cell_type": "markdown",
   "id": "16b94382",
   "metadata": {},
   "source": [
    "# Exercices sur les nombres\n",
    "\n",
    "## Fonctions mathématiques\n",
    "\n",
    "* Est ce que la fonction log est le logarithme décimal ou népérien ?\n",
    "* Calculer $x = \\sqrt{2}$ puis calculer $x^2$. Que se passe-t-il ?\n",
    "* Calculer $\\arccos{\\frac{\\sqrt{2}}{2}}$ et comparer à sa valeur théorique."
   ]
  },
  {
   "cell_type": "markdown",
   "id": "5e33a206",
   "metadata": {},
   "source": [
    "## Constante de structure fine\n",
    "\n",
    "La constante de structure fine est définie en physique comme étant égale à \n",
    "\n",
    "$$ \n",
    "\\alpha = \\frac{e^2}{2\\epsilon_0 h c}\n",
    "$$ \n",
    "\n",
    "où \n",
    "\n",
    "* $e$ est la charge de l'électron et vaut $1.602176634 \\times 10^{−19} C$\n",
    "* $h$ est la constante de Planck et vaut $6.626\\,070\\,15  \\times 10^{−34} J s$ \n",
    "* $\\epsilon_0$ la permitivité du vide et vaut $8.8541878128 \\times 10^{−12} F/m$\n",
    "* $c$ la célérité de la lumière dans le vide, $c=299792458 m/s$\n",
    "\n",
    "Définissez en Python les variables ``e``, ``hbar``, ``epsilon_0`` et ``c``. Calculez $\\alpha$ et $1/\\alpha$"
   ]
  },
  {
   "cell_type": "markdown",
   "id": "8595303f",
   "metadata": {},
   "source": [
    "## Précision des nombres\n",
    "\n",
    "* Soit $x=1$ et $\\epsilon = 10^{-15}$. Calculez $y=x + \\epsilon$ et ensuite $y - x$. \n",
    "* Pourquoi le résultat est différent de $10^{-15}$. \n",
    "* Que vaut cette valeur ? "
   ]
  },
  {
   "cell_type": "markdown",
   "id": "9c09871e",
   "metadata": {},
   "source": [
    "## Calcul d'une dérivée\n",
    "\n",
    "On considère une fonction $f(x)$. On rappelle que la dérivée peut se définir comme\n",
    "\n",
    "$$\n",
    "f^\\prime(x) = \\lim_{\\epsilon\\rightarrow0}\\frac{f(x+\\epsilon) - f(x)}{\\epsilon}\n",
    "$$\n",
    "\n",
    "Pour calculer numériquement une dérivée, il faut évaluer la limite en prenant une valeur 'petite' de $\\epsilon$. \n",
    "\n",
    "On prendra comme exemple $f(x) = \\sin(x)$. \n",
    "\n",
    "* Calculer numériquement la dérivée de $f$ en $\\pi/4$ en utilisant la formule pour $\\epsilon = 10^{-6}$.\n",
    "* Comparer à la valeur théorique $\\cos(x)$ pour différentes valeurs de $\\epsilon$ que l'on prendra comme puissance de 10 ($\\epsilon = 10^{-n}$). Que se passe-t-il si $\\epsilon$ est trop petit ? trop grand ?\n",
    "* Ecrire la fonction ``sin_prime(x, epsilon)`` qui calcule la dérivée de sin en $x$\n",
    "* Ecrire une fonction qui prend une fonction quelconque et renvoie la fonction dérivée."
   ]
  },
  {
   "cell_type": "markdown",
   "id": "2482518c",
   "metadata": {},
   "source": [
    "## Nombre complexe\n",
    "\n",
    "* Ecrire une fonction qui calcule le module d'un nombre complexe $z$\n",
    "* Ecrire une fonction qui à partir de $r$ et $\\theta$ renvoie le nombre $z = re^{i\\theta} = r\\cos(\\theta) + ir\\sin(\\theta)$"
   ]
  }
 ],
 "metadata": {
  "kernelspec": {
   "display_name": "Python 3",
   "language": "python",
   "name": "python3"
  },
  "language_info": {
   "codemirror_mode": {
    "name": "ipython",
    "version": 3
   },
   "file_extension": ".py",
   "mimetype": "text/x-python",
   "name": "python",
   "nbconvert_exporter": "python",
   "pygments_lexer": "ipython3",
   "version": "3.8.8"
  },
  "varInspector": {
   "cols": {
    "lenName": 16,
    "lenType": 16,
    "lenVar": 40
   },
   "kernels_config": {
    "python": {
     "delete_cmd_postfix": "",
     "delete_cmd_prefix": "del ",
     "library": "var_list.py",
     "varRefreshCmd": "print(var_dic_list())"
    },
    "r": {
     "delete_cmd_postfix": ") ",
     "delete_cmd_prefix": "rm(",
     "library": "var_list.r",
     "varRefreshCmd": "cat(var_dic_list()) "
    }
   },
   "types_to_exclude": [
    "module",
    "function",
    "builtin_function_or_method",
    "instance",
    "_Feature"
   ],
   "window_display": false
  }
 },
 "nbformat": 4,
 "nbformat_minor": 5
}