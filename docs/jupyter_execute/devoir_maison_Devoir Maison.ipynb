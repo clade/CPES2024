{
 "cells": [
  {
   "cell_type": "markdown",
   "id": "7aa279f9",
   "metadata": {},
   "source": [
    "# Calcul des dates\n",
    "\n",
    "Dans cette exercice, nous allons écrire des fonctions pour traiter des dates. Il est interdit d'utiliser la librairie python \"datetime\" ou tout autre librairie permettant de traiter les dates automatiquement. \n",
    "\n",
    "Pour simplifier l'exercice, nous considérerons que le calendrier est inchangé depuis son origine. Nous rappelons que les années bisextiles ont lieu tous les 4 ans, sauf tous les 100 ans, sauf tous les 400 ans. Ainsi, 1900, n'était pas bisextile, mais 2000 l'était.\n",
    "\n",
    "Le calendrier comment le 1er janvier de l'an I (il n'y a pas de zero du mois zero de l'an zero). C'est le premier jour du calendrier. "
   ]
  },
  {
   "cell_type": "markdown",
   "id": "fa65e40e",
   "metadata": {},
   "source": [
    "## Années bisextiles\n"
   ]
  },
  {
   "cell_type": "markdown",
   "id": "d1fce3af",
   "metadata": {},
   "source": [
    "1. Écrire une fonction qui prend l'année comme argument et renvoie True ou False suivant que l'année est bisextile ou pas. "
   ]
  },
  {
   "cell_type": "markdown",
   "id": "60c98ca7",
   "metadata": {},
   "source": [
    "2. Écrire une fonction qui à partir de l'année renvoie le nombre de jour écoulé jusqu'au premier janvier de cette année. Cette fonction renverra donc 0 pour l'an I, 365 pour l'an II, $3\\times365$ pour l'an IV, $4\\times365+1$ pour l'an V. Pour l'an CI, ce sera $100\\times 365 + 24$, etc... "
   ]
  },
  {
   "cell_type": "markdown",
   "id": "3c184623",
   "metadata": {},
   "source": [
    "3. Écrire une fonction qui a partir du chiffre du mois (janvier=1, février=2, ...) et du jour du mois renvoie le nombre de jour écoulé depuis le premier janvier de cette année. Cette fonction prendra un argument optionnel qui indique si l'année est bisextile. "
   ]
  },
  {
   "cell_type": "markdown",
   "id": "a1f38b71",
   "metadata": {},
   "source": [
    "4. Si ce n'est pas déjà le cas, écrire la fonction précédente à l'aide d'une liste qui contiendra le nombre de jours successif de chaque mois (31, 28, 31, 30, 31, ...)"
   ]
  },
  {
   "cell_type": "markdown",
   "id": "c2636529",
   "metadata": {},
   "source": [
    "5. Écrire une fonction qui prend comme argument la date sous forme de nombre et renvoie le nombre de jours écoulés depuis le premier janvier de l'an I. Cette fonction utilisera bien entendu les fonctions écrites précédement ! Combien de jour se sont écoulés entre le 1/1/1 et votre date de naissance ?"
   ]
  },
  {
   "cell_type": "markdown",
   "id": "83328e20",
   "metadata": {},
   "source": [
    "## Programmation orientée objet\n",
    "\n",
    "Dans ce qui suit, merci de toujours tester vos fonctions/méthodes avec ma date de naissance (le 11 février 1980) et la votre. \n",
    "\n",
    "5. Définir un objet `Date` qui s'initialise avec trois arguments (année, jour, mois).\n",
    "\n",
    "6. Ajouter une méthode `__repr__` qui renvoie la chaîne de caractère permettant de créer l'objet. \n",
    "\n",
    "7. Ajouter une méthode `__str__` qui renvoie la date sous forme humaine (\"14 juillet 1789\"). Le nom des mois sera rentré sous forme d'une liste "
   ]
  },
  {
   "cell_type": "markdown",
   "id": "1d2f3787",
   "metadata": {},
   "source": [
    "8. Ajouter une méthode qui renvoie le nombre de jour écoulés depuis le premier janvier de l'an I. \n",
    "\n",
    "9. En utilisant la méthode de la question précédente, définir la méthode spéciale `__sub__` qui renvoie le nombre de jour qui s'est écoulé entre deux dates données. "
   ]
  },
  {
   "cell_type": "markdown",
   "id": "adb4dfc7",
   "metadata": {},
   "source": [
    "10. Écrire une méthode qui renvoie le jour de la semaine sous forme d'un nombre (lundi->0, mardi->1, ...) et une autre méthode qui renvoie ce jour sous forme d'une chaîne de caractère."
   ]
  },
  {
   "cell_type": "markdown",
   "id": "29b7eb78",
   "metadata": {},
   "source": [
    "## Manipulation de chaînes de caractères\n",
    "\n",
    "Dans les questions suivantes, il est conseillé d'utiliser la méthode split des chaînes de caractères.\n",
    "\n",
    "11. Écrire une fonction qui à partir d'une chaine de caractère du type `\"11/02/1890\"` renvoie les trois chiffres du jours, du mois et de l'année.\n",
    "\n",
    "12. Écrire une fonction qui créer un objet `Date` à partir d'une telle chaine de caractère. "
   ]
  },
  {
   "cell_type": "markdown",
   "id": "be00b37b",
   "metadata": {},
   "source": [
    "13. Mêmes questions, mais avec une date du type \"11 février 1980\". La conversion de nom du mois vers le numéro sera faite grâce à un dictionnaire : `{\"janvier\":1, \"février\":2, ...}`\n",
    "\n",
    "14. Créer le dictionnaire mois->numéro du mois à l'aide d'une boucle for à partir de la liste des mois. "
   ]
  },
  {
   "cell_type": "markdown",
   "id": "09f83e7f",
   "metadata": {},
   "source": [
    "## Statistiques sur les jours de la semaine\n",
    "\n",
    "15. Le calendrier a une période de 400 ans, soit en tout 4800 mois. Pour chacun de ces mois, calculer le jour de la semaine où tombe le 13. Montrer que le 13 a le plus de chance de tomber un vendredi."
   ]
  },
  {
   "cell_type": "markdown",
   "id": "fda7e498",
   "metadata": {},
   "source": [
    "## Insee\n",
    "\n",
    "L'insee publie les données sur les personnes décédées régulièrement. Elle se trouvent sur la page suivante : https://www.insee.fr/fr/information/4769950 \n",
    "\n",
    "Téléchargez le fichier correspondant à votre année de naissance. Utiliser la commange `pandas.read_csv` pour l'ouvrir (avec l'option `delimiter=';'`)\n",
    "\n",
    "Les dates sont enregistrée sous la forme d'un nombre dont l'écriture décimale correspond à AAAAMMJJ, où AAAA est l'année, MM le mois et JJ le jour. \n",
    "\n",
    "16. Calculer l'age en jour de toutes les personnes décés cette année là. \n",
    "\n",
    "17. Calculer l'age moyen des décés.\n",
    "\n",
    "18. Comment s'appelle la personne la plus agée qui est décédée, quel est son age ?\n",
    "\n",
    "19. Tracer l'histogramme de l'age au moment du décés"
   ]
  },
  {
   "cell_type": "markdown",
   "id": "1ca1a69c",
   "metadata": {},
   "source": [
    "![Texte alternatif](histogramme.jpg \"Titre de l'image\")"
   ]
  }
 ],
 "metadata": {
  "celltoolbar": "Tags",
  "kernelspec": {
   "display_name": "Python 3",
   "language": "python",
   "name": "python3"
  },
  "language_info": {
   "codemirror_mode": {
    "name": "ipython",
    "version": 3
   },
   "file_extension": ".py",
   "mimetype": "text/x-python",
   "name": "python",
   "nbconvert_exporter": "python",
   "pygments_lexer": "ipython3",
   "version": "3.8.8"
  },
  "varInspector": {
   "cols": {
    "lenName": 16,
    "lenType": 16,
    "lenVar": 40
   },
   "kernels_config": {
    "python": {
     "delete_cmd_postfix": "",
     "delete_cmd_prefix": "del ",
     "library": "var_list.py",
     "varRefreshCmd": "print(var_dic_list())"
    },
    "r": {
     "delete_cmd_postfix": ") ",
     "delete_cmd_prefix": "rm(",
     "library": "var_list.r",
     "varRefreshCmd": "cat(var_dic_list()) "
    }
   },
   "types_to_exclude": [
    "module",
    "function",
    "builtin_function_or_method",
    "instance",
    "_Feature"
   ],
   "window_display": false
  }
 },
 "nbformat": 4,
 "nbformat_minor": 5
}