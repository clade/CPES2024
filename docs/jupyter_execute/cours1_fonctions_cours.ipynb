{
 "cells": [
  {
   "cell_type": "markdown",
   "id": "502621d1",
   "metadata": {},
   "source": [
    "# Les fonctions\n",
    "\n",
    "Les fonctions sont des sous-programme que l'on peut exécuter. Elles sont en particulier utilisées pour effectuer des tâches répétitives.\n",
    "\n",
    "## Utiliser les fonctions\n",
    "\n",
    "Il existe un grand nombre de fonctions déjà définies en Python. Certaines sont des fonctions natives, disponibles directement en Python (par exemple la fonction ``print``). D'autres sont dans une librairie, par exemples, les fonctions mathématiques sont dans la librairie ``math``. \n",
    "\n",
    "Pour exécuter une fonction (on utilise aussi le mot appeler - call en anglais), il faut faire suivre le nom de la fonction par des parenthèses avec à l'intérieur les arguments séparés par des virgules. \n",
    "\n",
    "Une fonction peut avoir zero argument, un ou plusieurs. Le nombre d'arguments n'est pas forcement fixé à l'avance. "
   ]
  },
  {
   "cell_type": "code",
   "execution_count": null,
   "id": "61ed34ad",
   "metadata": {},
   "outputs": [],
   "source": [
    "list() # Fonction sans arguments\n",
    "\n",
    "from math import cos # on importe la fonction cosinus\n",
    "cos(1) # Cette fonction possède un seul argument\n",
    "\n",
    "print('Bonjour', 'Hello') # La fonction print peut avoir autant d'argument qu'on le souhaite"
   ]
  },
  {
   "cell_type": "markdown",
   "id": "95186cc8",
   "metadata": {},
   "source": [
    "Lorsqu'une fonction possède plusieurs arguments, il est important de respecter l'ordre. Lorsque l'on ne connait pas cet ordre, il faut regarder la documentation, ce qui peut se faire avec la commande ``nom_de_la_fonction?`` ou ``help(nom_de_la_fonction)``. \n",
    "\n",
    "Regardons par exemple la fonction date du module datetime. Cette fonction permet de manipuler des dates avec Python."
   ]
  },
  {
   "cell_type": "code",
   "execution_count": null,
   "id": "d22868e8",
   "metadata": {},
   "outputs": [],
   "source": [
    "from datetime import date\n",
    "#date?"
   ]
  },
  {
   "cell_type": "markdown",
   "id": "f1474181",
   "metadata": {},
   "source": [
    "La documentation nous donne ;\n",
    "\n",
    "    date(year, month, day)\n",
    "    \n",
    "Cette fonction nécéssite donc 3 arguments (l'année, le mois et le jour).\n",
    "\n",
    "On peut l'utiliser de la façon suivante : "
   ]
  },
  {
   "cell_type": "code",
   "execution_count": null,
   "id": "0462960a",
   "metadata": {},
   "outputs": [],
   "source": [
    "bataille_marignan = date(1515, 9, 13)\n",
    "print(bataille_marignan)"
   ]
  },
  {
   "cell_type": "markdown",
   "id": "36c1440d",
   "metadata": {},
   "source": [
    "Pour lever l'ambiguité lorsqu'il y a plusieurs arguments, il est possible de nommer explicitement ceux-ci"
   ]
  },
  {
   "cell_type": "code",
   "execution_count": null,
   "id": "ef3a71c6",
   "metadata": {},
   "outputs": [],
   "source": [
    "bataille_marignan = date(year=1515, month=9, day=13)"
   ]
  },
  {
   "cell_type": "markdown",
   "id": "e7fb9500",
   "metadata": {},
   "source": [
    "Lorsque les arguments sont nommés, l'ordre n'a plus d'importance. "
   ]
  },
  {
   "cell_type": "code",
   "execution_count": null,
   "id": "35dabfca",
   "metadata": {},
   "outputs": [],
   "source": [
    "assert date(year=1515, month=9, day=13)==date(day=13, month=9, year=1515)"
   ]
  },
  {
   "cell_type": "markdown",
   "id": "8451759e",
   "metadata": {},
   "source": [
    "Attention, Python ne peut pas deviner ne nom de l'argument à partir du nom de la variable. Ceci ne fonctionnera pas :"
   ]
  },
  {
   "cell_type": "code",
   "execution_count": null,
   "id": "4bb024b2",
   "metadata": {},
   "outputs": [],
   "source": [
    "year=1515\n",
    "month=9\n",
    "day=13\n",
    "\n",
    "date(day, month, year)"
   ]
  },
  {
   "cell_type": "markdown",
   "id": "25ae79e5",
   "metadata": {},
   "source": [
    "Lorsqu'une fonction contient beaucoup d'arguments, il peut être utile de regrouper les variables dans une seule variable. Il peut s'agir soit d'une liste ou d'un n-uplet (tuple) auquel cas l'ordre sera important, soit d'un dictionnaire, auquel cas, les clés doivent correspondre aux noms des variables. Pour une liste on précéde l'objet d'une ``*`` pour un dictionnaire de ``**``."
   ]
  },
  {
   "cell_type": "code",
   "execution_count": null,
   "id": "42170b0e",
   "metadata": {},
   "outputs": [],
   "source": [
    "date_tpl = (1515, 9, 13)\n",
    "date_dct = {\"year\":1515, 'month':9, \"day\":13}\n",
    "\n",
    "print(date(*date_tpl))\n",
    "print(date(**date_dct))"
   ]
  },
  {
   "cell_type": "code",
   "execution_count": null,
   "id": "9a3378a1",
   "metadata": {},
   "outputs": [],
   "source": []
  },
  {
   "cell_type": "markdown",
   "id": "faf66ce1",
   "metadata": {},
   "source": [
    "## Création d'une fonction\n",
    "\n",
    "### Principe général\n",
    "\n",
    "Le mot clé ``def`` est utilisé pour créer une fonction. Il doit être suivit du nom de la fonction, des arguments placés entre parenthèse. Comme toute instruction qui sera suivi d'un bloc d'instruction, il faut terminer la ligne par un ``:``. Le bloc d'instruction sera alors indenté. "
   ]
  },
  {
   "cell_type": "code",
   "execution_count": null,
   "id": "0cb5d148",
   "metadata": {},
   "outputs": [],
   "source": [
    "# Fonction sans argument\n",
    "def affiche_bonjour():\n",
    "    print('Bonjour tout le monde')\n",
    "    print('Hello World!')\n",
    "    \n",
    "affiche_bonjour()"
   ]
  },
  {
   "cell_type": "markdown",
   "id": "a89b4b17",
   "metadata": {},
   "source": [
    "Pour renvoyer une valeur, il faut utiliser l'instruction ``return``. "
   ]
  },
  {
   "cell_type": "code",
   "execution_count": null,
   "id": "ea5f7866",
   "metadata": {},
   "outputs": [],
   "source": [
    "from math import pi\n",
    "\n",
    "def surface_d_un_disque(r):\n",
    "    return pi*r**2\n",
    "\n",
    "surface_d_un_disque(3)"
   ]
  },
  {
   "cell_type": "markdown",
   "id": "8c2161e5",
   "metadata": {},
   "source": [
    "Python quitte la fonction imédiatement après le return. Il peut y avoir plusieurs return dans une fonction. Python quitte la fonction après le premier return executé. Si il arrive à la fin de la fonction, alors il y a un return implicite. La valeur renvoyée est ``None``. \n",
    "\n",
    "Dans cet exemple, le ``print('B')`` ne sera jamais executé"
   ]
  },
  {
   "cell_type": "code",
   "execution_count": null,
   "id": "b74a6f94",
   "metadata": {},
   "outputs": [],
   "source": [
    "def f():\n",
    "    print('A')\n",
    "    return\n",
    "    print('B')\n",
    "    \n",
    "f()"
   ]
  },
  {
   "cell_type": "code",
   "execution_count": null,
   "id": "624944d5",
   "metadata": {},
   "outputs": [],
   "source": [
    "def f(x):\n",
    "    a = x**2\n",
    "    # Il n'y a pas de return. Cette fonction ne sert donc à rien\n",
    "    \n",
    "print(f(1))"
   ]
  },
  {
   "cell_type": "code",
   "execution_count": null,
   "id": "54038ba1",
   "metadata": {},
   "outputs": [],
   "source": [
    "from math import sin, cos, tan\n",
    "\n",
    "def f(x, case):\n",
    "    if case=='A':\n",
    "        return sin(x)\n",
    "    if case=='B':\n",
    "        return cos(x)\n",
    "    if case=='C':\n",
    "        return tan(x)"
   ]
  },
  {
   "cell_type": "markdown",
   "id": "d90088cc",
   "metadata": {},
   "source": [
    "Une fonction peut renvoyer plusieurs valeurs. Pour cela on les sépare par des virgules. On peut récupérer les valeurs en séparant les variables par des virgules à gauche du signe ``=``. "
   ]
  },
  {
   "cell_type": "code",
   "execution_count": null,
   "id": "8face1fb",
   "metadata": {},
   "outputs": [],
   "source": [
    "from math import cos, sin\n",
    "\n",
    "def coordonnees(r, theta):\n",
    "    return r*cos(theta), r*sin(theta)\n",
    "\n",
    "x, y = coordonnees(1, 3)"
   ]
  },
  {
   "cell_type": "markdown",
   "id": "c3e0a55d",
   "metadata": {},
   "source": [
    "### Chaîne de documentation"
   ]
  },
  {
   "cell_type": "markdown",
   "id": "23303ffb",
   "metadata": {},
   "source": [
    "Si la première ligne du bloc d'instruction d'une fonction est une chaîne de caractère litérale, alors cette chaîne sera la chaîne de documentation de la fonction. Cette chaîne correspond à la description de la fonction. "
   ]
  },
  {
   "cell_type": "code",
   "execution_count": null,
   "id": "9819b2f4",
   "metadata": {},
   "outputs": [],
   "source": [
    "def surface_d_un_disque(r):\n",
    "    \"Calcule la surface d'un disque de rayon r\"\n",
    "    return pi*r**2\n",
    "\n",
    "help(surface_d_un_disque)"
   ]
  },
  {
   "cell_type": "markdown",
   "id": "4e3a5058",
   "metadata": {},
   "source": [
    "Lorsque la chaîne de caractère prend plusieurs lignes (ce qui est en générale le cas...), alors il est préférable d'utiliser une chaîne avec triple guillemets. "
   ]
  },
  {
   "cell_type": "code",
   "execution_count": null,
   "id": "74b1533d",
   "metadata": {},
   "outputs": [],
   "source": [
    "def surface_d_un_disque(r):\n",
    "    \"\"\"Calcule la surface d'un disque\n",
    "    \n",
    "    Utilise simplement la formule $\\pi r^2$\n",
    "    \n",
    "    Arguments :\n",
    "        r (float) : rayon du disque\n",
    "        \n",
    "    Renvoie : \n",
    "        float : le surface du disque\n",
    "    \"\"\"\n",
    "    return pi*r**2\n",
    "\n",
    "help(surface_d_un_disque)"
   ]
  },
  {
   "cell_type": "markdown",
   "id": "f3f4466f",
   "metadata": {},
   "source": [
    "La chaîne de documentation est différente des commentaires (``#``): ces derniers ne sont pas disponibles aux utilsateurs, mais seulement à celui qui lira et voudra comprendre le code. "
   ]
  },
  {
   "cell_type": "markdown",
   "id": "cd7b46a7",
   "metadata": {},
   "source": [
    "### Variables locales\n",
    "\n",
    "Une variable est locale lorsqu'elle n'est définie que à l'intérieur d'une fonction. Une variable est globale lorsque sa definition est à l'extérieure de la fonction. Il n'y a pas d'interaction entre une variable locale et une variable portant le même nom à l'extérieur de la fonction\n",
    "\n",
    "Toutes les variables qui sont affectée dans le fonction (i.e. pour lesquels on a une ligne ``variable=...``) ainsi que les arguments de la fonction sont des variables locales.\n"
   ]
  },
  {
   "cell_type": "code",
   "execution_count": null,
   "id": "54b4ca5c",
   "metadata": {},
   "outputs": [],
   "source": [
    "x = 1\n",
    "def f(): # x est une variable globale\n",
    "    print(x)\n",
    "    \n",
    "f()\n"
   ]
  },
  {
   "cell_type": "code",
   "execution_count": null,
   "id": "ab579ad8",
   "metadata": {},
   "outputs": [],
   "source": [
    "x = 1\n",
    "def f(): # x est une variable locale\n",
    "    x = 3\n",
    "    print(x)\n",
    "    \n",
    "print(x)\n",
    "f()\n",
    "print(x)"
   ]
  },
  {
   "cell_type": "markdown",
   "id": "cac1f531",
   "metadata": {},
   "source": [
    "### Arguments optionels\n",
    "\n",
    "Il est possible de donner une valeur par défaut à un argument. Celui-ci sera alors optionnel. Cela se fait en avec la syntax ``def f(arg=...)``. Les arguments optionels doivent être définis à la fin de la liste des arguments. "
   ]
  },
  {
   "cell_type": "code",
   "execution_count": null,
   "id": "1b80dee0",
   "metadata": {},
   "outputs": [],
   "source": [
    "def f(a, b=1):\n",
    "    print(a*b**2)\n",
    "\n",
    "f(1)\n",
    "f(1, 5)\n",
    "f(b=4, a=1)"
   ]
  },
  {
   "cell_type": "markdown",
   "id": "5f3044d1",
   "metadata": {},
   "source": [
    "### Fonction avec un nombre arbitraire d'arguments\n",
    "\n",
    "Il est possible de définir une fonction avec un nombre arbitraire d'arguments en utilisant la syntaxe ``*arg``. Dans ce cas, la variable arg sera un n-uplet (tuple) qui contiendra tous les arguments suplémentaires. "
   ]
  },
  {
   "cell_type": "code",
   "execution_count": null,
   "id": "de9735ec",
   "metadata": {},
   "outputs": [],
   "source": [
    "def mafonction(a, b, *args):\n",
    "    print('a = ', a)\n",
    "    print('b = ', b)\n",
    "    print('args =', args)\n",
    "    \n",
    "mafonction(1, 2, 3, 4)"
   ]
  },
  {
   "cell_type": "markdown",
   "id": "02fdab97",
   "metadata": {},
   "source": [
    "Il est aussi possible de définir une fonction avec un nombre arbitraire d'arguments nommés. Dans ce cas, il faut utiliser la syntaxe ``**kwd``. La variable ``kwd`` est alors un dictionnaire dont les clés sont les noms des variables. "
   ]
  },
  {
   "cell_type": "code",
   "execution_count": null,
   "id": "e43c973c",
   "metadata": {},
   "outputs": [],
   "source": [
    "def mafonction(a, b, **kwd):\n",
    "    print('a = ', a)\n",
    "    print('b = ', b)\n",
    "    print('kwd = ', kwd)\n",
    "    \n",
    "# mafonction(1, 2, 3, 4) # erreur\n",
    "mafonction(1, 2, alpha=1, beta=3)"
   ]
  },
  {
   "cell_type": "code",
   "execution_count": null,
   "id": "674dfff1",
   "metadata": {},
   "outputs": [],
   "source": []
  }
 ],
 "metadata": {
  "kernelspec": {
   "display_name": "Python 3",
   "language": "python",
   "name": "python3"
  },
  "language_info": {
   "codemirror_mode": {
    "name": "ipython",
    "version": 3
   },
   "file_extension": ".py",
   "mimetype": "text/x-python",
   "name": "python",
   "nbconvert_exporter": "python",
   "pygments_lexer": "ipython3",
   "version": "3.8.8"
  },
  "varInspector": {
   "cols": {
    "lenName": 16,
    "lenType": 16,
    "lenVar": 40
   },
   "kernels_config": {
    "python": {
     "delete_cmd_postfix": "",
     "delete_cmd_prefix": "del ",
     "library": "var_list.py",
     "varRefreshCmd": "print(var_dic_list())"
    },
    "r": {
     "delete_cmd_postfix": ") ",
     "delete_cmd_prefix": "rm(",
     "library": "var_list.r",
     "varRefreshCmd": "cat(var_dic_list()) "
    }
   },
   "types_to_exclude": [
    "module",
    "function",
    "builtin_function_or_method",
    "instance",
    "_Feature"
   ],
   "window_display": false
  }
 },
 "nbformat": 4,
 "nbformat_minor": 5
}