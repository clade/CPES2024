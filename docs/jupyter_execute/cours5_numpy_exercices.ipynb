{
 "cells": [
  {
   "cell_type": "markdown",
   "id": "67d2282f",
   "metadata": {},
   "source": [
    "# Utilisation de numpy\n",
    "\n",
    "## Calcul Monte-Carlo de la surface d'un disque\n",
    "\n",
    "On rappelle que la fonction np.random.rand permet de créer une distribution uniforme de points entre 0 et 1.\n",
    "\n",
    "1. Créer des tableaux X et Y de variables uniforméments réparties entre -1 et 1\n",
    "2. Evaluer la probabilité que le point de coordonnées (x, y) soit dans le cercle unité ?\n",
    "3. En déduire une estimation ed $\\pi$\n",
    "4. De la même façon, évaluer le volume d'une sphère en dimension 13\n",
    "\n",
    "## Calcul de la moyenne \n",
    "\n",
    "Un tableau numpy contient les notes d'une classe. Chaque ligne correspond à un élève et chaque colone à un examen. "
   ]
  },
  {
   "cell_type": "code",
   "execution_count": 1,
   "id": "2558b2be",
   "metadata": {
    "tags": [
     "keep"
    ]
   },
   "outputs": [],
   "source": [
    "import numpy as np\n",
    "\n",
    "N_eleves = 35\n",
    "N_examens = 3\n",
    "\n",
    "notes = np.random.rand(N_eleves, N_examens)"
   ]
  },
  {
   "cell_type": "markdown",
   "id": "084010e3",
   "metadata": {},
   "source": [
    "1. Calculer la moyenne de chaque élève. Calculer la moyenne pour chaque examen. \n",
    "2. Calculer la moyenne de chaque élève, sachant que les coeficients pour les 3 examens sont de 1, 3 et 2. "
   ]
  }
 ],
 "metadata": {
  "celltoolbar": "Tags",
  "kernelspec": {
   "display_name": "Python 3",
   "language": "python",
   "name": "python3"
  },
  "language_info": {
   "codemirror_mode": {
    "name": "ipython",
    "version": 3
   },
   "file_extension": ".py",
   "mimetype": "text/x-python",
   "name": "python",
   "nbconvert_exporter": "python",
   "pygments_lexer": "ipython3",
   "version": "3.8.8"
  },
  "varInspector": {
   "cols": {
    "lenName": 16,
    "lenType": 16,
    "lenVar": 40
   },
   "kernels_config": {
    "python": {
     "delete_cmd_postfix": "",
     "delete_cmd_prefix": "del ",
     "library": "var_list.py",
     "varRefreshCmd": "print(var_dic_list())"
    },
    "r": {
     "delete_cmd_postfix": ") ",
     "delete_cmd_prefix": "rm(",
     "library": "var_list.r",
     "varRefreshCmd": "cat(var_dic_list()) "
    }
   },
   "types_to_exclude": [
    "module",
    "function",
    "builtin_function_or_method",
    "instance",
    "_Feature"
   ],
   "window_display": false
  }
 },
 "nbformat": 4,
 "nbformat_minor": 5
}