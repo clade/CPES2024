{
 "cells": [
  {
   "cell_type": "markdown",
   "id": "ff726cfd",
   "metadata": {},
   "source": [
    "# Tableaux de nombres\n",
    "\n",
    "La librairie numpy permet de traiter de façon efficace des tableaux numpy. Nous découvrirons cette librairie, sachant que la librairie Pandas repose sur numpy. \n",
    "\n",
    "`numpy` est la librairie qui permet de manipuler de larges tableaux de données. Elle offre plusieurs avantages par rapport aux listes : elle est beaucoup plus rapide et surtout permet de faire des calculs sans utiliser de boucles for. Il est indispensable de savoir manipuler correctement les tableaux numpy pour d'une part gagner du temps lors de l'exécution du programme, mais surtout gagner du temps lors de l'écriture du programme. \n",
    "\n",
    "Contrairement aux listes, la taille et le type de donnée est fixé à la création d'un tableau numpy, ce qui fait que la mémoire est immédiatement allouée au tableau. \n",
    "\n",
    "Voici quelques exemples : "
   ]
  },
  {
   "cell_type": "code",
   "execution_count": 1,
   "id": "0844452d",
   "metadata": {},
   "outputs": [
    {
     "name": "stdout",
     "output_type": "stream",
     "text": [
      "[ 0  1  4  9 16 25 36 49 64 81]\n",
      "[ 0.          0.84147098  0.90929743  0.14112001 -0.7568025  -0.95892427\n",
      " -0.2794155   0.6569866   0.98935825  0.41211849]\n"
     ]
    }
   ],
   "source": [
    "import numpy as np\n",
    "\n",
    "a = np.arange(10)\n",
    "print(a**2)\n",
    "print(np.sin(a))"
   ]
  },
  {
   "cell_type": "markdown",
   "id": "016dbede",
   "metadata": {},
   "source": [
    "## Création d'un tableau\n",
    "\n",
    "Il existe plusieurs fonctions pour créer un tableau.\n",
    "\n",
    "* Création d'un tableau à partir d'une liste : "
   ]
  },
  {
   "cell_type": "code",
   "execution_count": 2,
   "id": "b513b9bc",
   "metadata": {},
   "outputs": [
    {
     "name": "stdout",
     "output_type": "stream",
     "text": [
      "int64\n",
      "float64\n",
      "float64\n"
     ]
    }
   ],
   "source": [
    "a = np.array([1, 2, 4])\n",
    "print(a.dtype) \n",
    "\n",
    "# data type is calculated automatically\n",
    "a = np.array([1.2, 2, 4])\n",
    "print(a.dtype) # all numbers are float \n",
    "\n",
    "# data type can be forced\n",
    "a = np.array([1, 2, 4], dtype=float)\n",
    "print(a.dtype) \n"
   ]
  },
  {
   "cell_type": "markdown",
   "id": "1ee9f53f",
   "metadata": {},
   "source": [
    "* Création d'un tableau uniforme"
   ]
  },
  {
   "cell_type": "code",
   "execution_count": 3,
   "id": "2d147b94",
   "metadata": {},
   "outputs": [],
   "source": [
    "N = 10\n",
    "a = np.zeros(N)\n",
    "b = np.ones(N)"
   ]
  },
  {
   "cell_type": "markdown",
   "id": "4f4b40b7",
   "metadata": {},
   "source": [
    "* Créer un range"
   ]
  },
  {
   "cell_type": "code",
   "execution_count": 4,
   "id": "719c83f1",
   "metadata": {},
   "outputs": [
    {
     "name": "stdout",
     "output_type": "stream",
     "text": [
      "Valeur calculée 45\n",
      "Valeur théorique 55.0\n"
     ]
    }
   ],
   "source": [
    "N = 10\n",
    "a = np.arange(N)\n",
    "print('Valeur calculée', a.sum())\n",
    "print('Valeur théorique', (N*(N+1))/2)\n"
   ]
  },
  {
   "cell_type": "markdown",
   "id": "d1078266",
   "metadata": {},
   "source": [
    "* Répartition uniforme de points: "
   ]
  },
  {
   "cell_type": "code",
   "execution_count": 5,
   "id": "a1ab189b",
   "metadata": {},
   "outputs": [],
   "source": [
    "N = 300\n",
    "x = np.linspace(0, 2*np.pi, num=N)\n"
   ]
  },
  {
   "cell_type": "markdown",
   "id": "66c7774d",
   "metadata": {},
   "source": [
    "* Répartition sur une échelle logarithmique:"
   ]
  },
  {
   "cell_type": "code",
   "execution_count": 6,
   "id": "d22efc7d",
   "metadata": {},
   "outputs": [
    {
     "name": "stdout",
     "output_type": "stream",
     "text": [
      "[  1.           1.58489319   2.51188643   3.98107171   6.30957344\n",
      "  10.          15.84893192  25.11886432  39.81071706  63.09573445\n",
      " 100.        ]\n"
     ]
    }
   ],
   "source": [
    "x = np.logspace(0, 2, 11)\n",
    "print(x)"
   ]
  },
  {
   "cell_type": "markdown",
   "id": "7217248b",
   "metadata": {},
   "source": [
    "## Fonctions numpy\n",
    "\n",
    "Le fonctions arithmétiques ainsi que toutes les fonctions mathématiques de la librairie numpy (ce sont plus ou moins les mêmes que la librairie math) fonctionnent avec des tableaux, c'est à dire qu'il n'est pas nécéssaire d'utiliser une boucle for pour créer un nouveau tableau. \n",
    "\n",
    "Une fonction pourra être utilisée avec un tableau à condition que toutes les fonctions qu'elle utilise fonctionnent avec un tableau. "
   ]
  },
  {
   "cell_type": "code",
   "execution_count": 10,
   "id": "aa2d1934",
   "metadata": {},
   "outputs": [
    {
     "data": {
      "text/plain": [
       "array([0.011109  , 0.05613476, 0.1978987 , 0.48675226, 0.83527021,\n",
       "       1.        , 0.83527021, 0.48675226, 0.1978987 , 0.05613476,\n",
       "       0.011109  ])"
      ]
     },
     "execution_count": 10,
     "metadata": {},
     "output_type": "execute_result"
    }
   ],
   "source": [
    "def gaussienne(x, moyenne=0, ecart_type=1):\n",
    "    return np.exp( -(x-moyenne)**2 / (2*ecart_type**2))\n",
    "\n",
    "gaussienne(np.linspace(-3, 3, 11))"
   ]
  },
  {
   "cell_type": "markdown",
   "id": "73329a74",
   "metadata": {},
   "source": [
    "Dans cet exemple, le boucle for est réalisée au niveau de chaque opération élémentaire. Comme toutes les fonctions sont compatible avec numpy, la fonction ``gaussienne`` l'est. Si on remplace np.exp par math.exp, alors il y a une erreur."
   ]
  },
  {
   "cell_type": "markdown",
   "id": "0aac4e28",
   "metadata": {},
   "source": [
    "Les fonctions de base de statistiques existent soit sous forme de fonction dans la librairie numpy soit sous forme de méthode sur les tableaux. Il s'agit de ``np.mean``, ``np.std``, ``np.var``. Il existe aussi d'autre fonction de reductions (elle prennent un tableau est renvoie un nombre) : ``np.sum``, ``np.mean``, ``np.max``, ``np.min``."
   ]
  },
  {
   "cell_type": "code",
   "execution_count": 16,
   "id": "e8c0e0fc",
   "metadata": {},
   "outputs": [
    {
     "name": "stdout",
     "output_type": "stream",
     "text": [
      "0.4999435020786929\n",
      "0.2886119645283682\n"
     ]
    }
   ],
   "source": [
    "x = np.random.rand(1_000_000)\n",
    "print(x.mean()) # ou print(np.mean(x))\n",
    "print(x.std())"
   ]
  },
  {
   "cell_type": "code",
   "execution_count": null,
   "id": "57330bf7",
   "metadata": {},
   "outputs": [],
   "source": []
  },
  {
   "cell_type": "markdown",
   "id": "1a026ebb",
   "metadata": {},
   "source": [
    "Remarquons que l'instruction ``if`` n'est pas une fonction. Il n'y a pas de sens à l'utiliser avec un tableau."
   ]
  },
  {
   "cell_type": "code",
   "execution_count": 13,
   "id": "fe21ddc5",
   "metadata": {},
   "outputs": [
    {
     "ename": "ValueError",
     "evalue": "The truth value of an array with more than one element is ambiguous. Use a.any() or a.all()",
     "output_type": "error",
     "traceback": [
      "\u001b[0;31m---------------------------------------------------------------------------\u001b[0m",
      "\u001b[0;31mValueError\u001b[0m                                Traceback (most recent call last)",
      "\u001b[0;32m<ipython-input-13-85ec1d204b32>\u001b[0m in \u001b[0;36m<module>\u001b[0;34m\u001b[0m\n\u001b[1;32m      1\u001b[0m \u001b[0mx\u001b[0m \u001b[0;34m=\u001b[0m \u001b[0mnp\u001b[0m\u001b[0;34m.\u001b[0m\u001b[0mrandom\u001b[0m\u001b[0;34m.\u001b[0m\u001b[0mrand\u001b[0m\u001b[0;34m(\u001b[0m\u001b[0;36m10\u001b[0m\u001b[0;34m)\u001b[0m\u001b[0;34m\u001b[0m\u001b[0;34m\u001b[0m\u001b[0m\n\u001b[0;32m----> 2\u001b[0;31m \u001b[0;32mif\u001b[0m \u001b[0;34m(\u001b[0m\u001b[0mx\u001b[0m\u001b[0;34m>\u001b[0m\u001b[0;36m.5\u001b[0m\u001b[0;34m)\u001b[0m\u001b[0;34m:\u001b[0m\u001b[0;34m\u001b[0m\u001b[0;34m\u001b[0m\u001b[0m\n\u001b[0m\u001b[1;32m      3\u001b[0m     \u001b[0my\u001b[0m \u001b[0;34m=\u001b[0m \u001b[0;36m1\u001b[0m\u001b[0;34m-\u001b[0m\u001b[0mx\u001b[0m\u001b[0;34m\u001b[0m\u001b[0;34m\u001b[0m\u001b[0m\n",
      "\u001b[0;31mValueError\u001b[0m: The truth value of an array with more than one element is ambiguous. Use a.any() or a.all()"
     ]
    }
   ],
   "source": [
    "x = np.random.rand(10)\n",
    "if (x>.5):\n",
    "    y = 1-x"
   ]
  },
  {
   "cell_type": "markdown",
   "id": "d2fa8ee7",
   "metadata": {},
   "source": [
    "## Indexer un tableau numpy\n",
    "\n",
    "On peut indexer un tableau numpy de plusieurs façon différentes\n",
    "\n",
    "* Comme les listes, avec des entier ou des slices\n",
    "* Avec un tableau d'entier\n",
    "* Avec un tableau de booléens (les deux tableaux doivent avoir la même taille)\n",
    "\n",
    "Les tableaux numpy sont modifiables. On peut aussi écrire de la même façon à condition que les tableaux aient une taille compatible"
   ]
  },
  {
   "cell_type": "code",
   "execution_count": 3,
   "id": "b77568e0",
   "metadata": {},
   "outputs": [
    {
     "name": "stdout",
     "output_type": "stream",
     "text": [
      "[6 5]\n"
     ]
    },
    {
     "data": {
      "text/plain": [
       "array([1, 6])"
      ]
     },
     "execution_count": 3,
     "metadata": {},
     "output_type": "execute_result"
    }
   ],
   "source": [
    "a = np.array([1, 5, 4, 6])\n",
    "\n",
    "indx = np.array([3, 1])\n",
    "\n",
    "print(a[indx])\n",
    "\n",
    "mask = np.array([True, False, False, True])\n",
    "\n",
    "a[mask]"
   ]
  },
  {
   "cell_type": "markdown",
   "id": "89dcfdfc",
   "metadata": {},
   "source": [
    "Remaquons qu'il est possible de créer un tableau de booleen avec les opérateurs de comparaison"
   ]
  },
  {
   "cell_type": "code",
   "execution_count": 5,
   "id": "ba755202",
   "metadata": {},
   "outputs": [
    {
     "name": "stdout",
     "output_type": "stream",
     "text": [
      "[ 1.90777979 -0.27021906  0.20357936 -1.01244181  0.48567974  0.10253538\n",
      "  1.8550102   1.14398201  0.3825322  -0.31723682]\n",
      "[ True False  True False  True  True  True  True  True False]\n",
      "[1.90777979 0.20357936 0.48567974 0.10253538 1.8550102  1.14398201\n",
      " 0.3825322 ]\n"
     ]
    }
   ],
   "source": [
    "a = np.random.normal(size=10)\n",
    "print(a)\n",
    "print(a>0)\n",
    "print(a[a>0])"
   ]
  },
  {
   "cell_type": "markdown",
   "id": "e6220ecf",
   "metadata": {},
   "source": [
    "Exemple : créer une fonction valeur absolue compatible numpy"
   ]
  },
  {
   "cell_type": "code",
   "execution_count": 7,
   "id": "344d0559",
   "metadata": {},
   "outputs": [
    {
     "data": {
      "text/plain": [
       "array([1.90777979, 0.27021906, 0.20357936, 1.01244181, 0.48567974,\n",
       "       0.10253538, 1.8550102 , 1.14398201, 0.3825322 , 0.31723682])"
      ]
     },
     "execution_count": 7,
     "metadata": {},
     "output_type": "execute_result"
    }
   ],
   "source": [
    "def abs_np(x):\n",
    "    output = x.copy()\n",
    "    output[output<0] *= -1\n",
    "    return output\n",
    "\n",
    "abs_np(a)\n",
    "    "
   ]
  },
  {
   "cell_type": "markdown",
   "id": "cd597ec1",
   "metadata": {},
   "source": [
    "## Quelques opérations courantes\n",
    "\n",
    "\n",
    "Il existe beaucoup de fonction numpy permettant de faire simplement des opérations sur les tableaux : \n",
    "\n",
    "Voici quelques exemples. Parfois les fonctions numpy existent sous forme d'une méthode (``objet.method``). "
   ]
  },
  {
   "cell_type": "code",
   "execution_count": 4,
   "id": "e0aeb6e5",
   "metadata": {},
   "outputs": [
    {
     "name": "stdout",
     "output_type": "stream",
     "text": [
      "4.3373002062093935\n",
      "4.3373002062093935\n"
     ]
    },
    {
     "data": {
      "text/plain": [
       "4.3373002062093935"
      ]
     },
     "execution_count": 4,
     "metadata": {},
     "output_type": "execute_result"
    }
   ],
   "source": [
    "import numpy as np\n",
    "a = np.random.normal(size=10000)\n",
    "\n",
    "print(np.max(a))\n",
    "print(a.max()) # Sous forme d'une méthode\n",
    "\n",
    "np.sum(a)\n",
    "np.mean(a)\n",
    "np.var(a)\n",
    "np.std(a)\n",
    "np.min(a)\n",
    "np.max(a)"
   ]
  },
  {
   "cell_type": "markdown",
   "id": "dafa073c",
   "metadata": {},
   "source": [
    "    \n",
    "Lorsque l'on a un tableau 2D (ou plus), il est possible d'éxecuter l'opération ligne par ligne (ou colonne par colonne). "
   ]
  },
  {
   "cell_type": "code",
   "execution_count": 5,
   "id": "6cbdf47d",
   "metadata": {},
   "outputs": [],
   "source": [
    "n = 10\n",
    "m = 4\n",
    "\n",
    "# Tableau 2D avec les notes\n",
    "# Les notes sont aléatoires !\n",
    "data = np.random.rand(n, m)  \n",
    "\n",
    "moyenne_A = np.mean(data, axis=0) # Sum_i a_ij\n",
    "moyenne_B = np.mean(data, axis=1) # Sum_j a_ij\n"
   ]
  },
  {
   "cell_type": "markdown",
   "id": "3ee3871c",
   "metadata": {},
   "source": [
    "Opération de tri : "
   ]
  },
  {
   "cell_type": "code",
   "execution_count": 6,
   "id": "69601191",
   "metadata": {},
   "outputs": [
    {
     "name": "stdout",
     "output_type": "stream",
     "text": [
      "[0.08764322 0.1230581  0.17004889 0.18385438 0.45941352 0.55188637\n",
      " 0.61358225 0.70715072 0.73755352 0.95182282]\n"
     ]
    }
   ],
   "source": [
    "a = np.random.rand(10)\n",
    "b = np.sort(a)\n",
    "print(b)"
   ]
  },
  {
   "cell_type": "markdown",
   "id": "24e475e7",
   "metadata": {},
   "source": [
    "Il est parfois utile de connaître l'indice du maximum ou minimum ou de connaître l'ordre du tri. Cela s'obtient avec les fonctions ``argmax``, ``argmin`` ou ``argsort``. "
   ]
  },
  {
   "cell_type": "code",
   "execution_count": 7,
   "id": "f1adf4be",
   "metadata": {},
   "outputs": [
    {
     "ename": "NameError",
     "evalue": "name 'moyenne_eleves' is not defined",
     "output_type": "error",
     "traceback": [
      "\u001b[0;31m---------------------------------------------------------------------------\u001b[0m",
      "\u001b[0;31mNameError\u001b[0m                                 Traceback (most recent call last)",
      "\u001b[0;32m<ipython-input-7-fa5dcea6eb43>\u001b[0m in \u001b[0;36m<module>\u001b[0;34m\u001b[0m\n\u001b[0;32m----> 1\u001b[0;31m \u001b[0mi_max\u001b[0m \u001b[0;34m=\u001b[0m \u001b[0mmoyenne_eleves\u001b[0m\u001b[0;34m.\u001b[0m\u001b[0margmax\u001b[0m\u001b[0;34m(\u001b[0m\u001b[0;34m)\u001b[0m\u001b[0;34m\u001b[0m\u001b[0;34m\u001b[0m\u001b[0m\n\u001b[0m\u001b[1;32m      2\u001b[0m \u001b[0;34m\u001b[0m\u001b[0m\n\u001b[1;32m      3\u001b[0m \u001b[0mprint\u001b[0m\u001b[0;34m(\u001b[0m\u001b[0;34mf'Le meilleur élève est le numéro {i_max}'\u001b[0m\u001b[0;34m)\u001b[0m\u001b[0;34m\u001b[0m\u001b[0;34m\u001b[0m\u001b[0m\n",
      "\u001b[0;31mNameError\u001b[0m: name 'moyenne_eleves' is not defined"
     ]
    }
   ],
   "source": [
    "i_max = moyenne_eleves.argmax()\n",
    "\n",
    "print(f'Le meilleur élève est le numéro {i_max}')\n"
   ]
  },
  {
   "cell_type": "markdown",
   "id": "af99067c",
   "metadata": {},
   "source": [
    "Autres fonctions utiles: \n",
    " "
   ]
  },
  {
   "cell_type": "code",
   "execution_count": 8,
   "id": "aa74de2c",
   "metadata": {},
   "outputs": [],
   "source": [
    "N = 1000\n",
    "a = np.random.normal(size=N)    \n",
    "# Différence entre deux éléments\n",
    "np.diff(a) \n",
    "\n",
    "# Marche aléatoire\n",
    "b = np.cumsum(a)\n",
    "\n"
   ]
  },
  {
   "cell_type": "markdown",
   "id": "e51d5574",
   "metadata": {},
   "source": [
    "## Lire et écrire dans un fichier\n",
    "\n",
    "  Il existe deux type d'enregistrement : l'enregistrement sous forme d'un fichier texte et celui sous forme binaire. Dans un fichier texte, le tableau doit être de dimension un ou deux. Il est écrit ligne par ligne sous forme de nombre décimaux. Dans un fichier binaire, c'est la mémoire de l'ordinateur qui est recopier dans le fichier. Les fichiers textes ont l'avantage d'être lisible par un humain et d'être compatible avec beaucoup de logiciel, cependant l'écriture et surtout la lecture du fichier prend beaucoup de temps. Les fichiers binaire seront beaucoup plus rapide. \n",
    "  \n",
    "  Pour enregistrer au format texte : \n",
    "  "
   ]
  },
  {
   "cell_type": "code",
   "execution_count": 9,
   "id": "ce6f36eb",
   "metadata": {},
   "outputs": [
    {
     "name": "stdout",
     "output_type": "stream",
     "text": [
      "1.000000000000000000e+00\n",
      "2.000000000000000000e+00\n",
      "4.000000000000000000e+00\n",
      "\n"
     ]
    }
   ],
   "source": [
    "\n",
    "filename = 'test.dat'\n",
    "a = np.array([1, 2, 4])\n",
    "np.savetxt(filename, a)\n",
    "with open(filename) as f:\n",
    "    print(f.read())\n",
    "# Numbers are converted to float"
   ]
  },
  {
   "cell_type": "markdown",
   "id": "fdfdfb93",
   "metadata": {},
   "source": [
    "  Il est possible de lire des fichiers au format 'csv' tels que ceux exportés par un tableur. Voici un exemple. "
   ]
  },
  {
   "cell_type": "code",
   "execution_count": 10,
   "id": "aeec60c9",
   "metadata": {},
   "outputs": [
    {
     "name": "stdout",
     "output_type": "stream",
     "text": [
      "[2.3 4.5 7. ]\n"
     ]
    }
   ],
   "source": [
    "# Création du fichier \n",
    "csv_content = \"\"\"# Tension; courant\n",
    "1; 2.3\n",
    "2; 4.5\n",
    "3; 7.0\"\"\"\n",
    "filename = 'test.csv'\n",
    "with open(filename, 'w') as f:\n",
    "    f.write(csv_content)\n",
    "\n",
    "data = np.loadtxt(filename, delimiter=';')\n",
    "print(data[:,1])"
   ]
  },
  {
   "cell_type": "markdown",
   "id": "a373ec7c",
   "metadata": {},
   "source": [
    "Dans le cas présent, il est aussi possible de lire chaque colonne dans une variable directement :     "
   ]
  },
  {
   "cell_type": "code",
   "execution_count": 11,
   "id": "f9eeedfd",
   "metadata": {},
   "outputs": [
    {
     "name": "stdout",
     "output_type": "stream",
     "text": [
      "[0.43478261 0.44444444 0.42857143]\n"
     ]
    }
   ],
   "source": [
    "# Utilisation de l'argument unpack\n",
    "tension, courant = np.loadtxt(filename, delimiter=';', unpack=True)\n",
    "print(tension/courant)        "
   ]
  },
  {
   "cell_type": "markdown",
   "id": "d24d377e",
   "metadata": {},
   "source": [
    "       \n",
    "  Pour les fichiers binaires, on utilise la fonction ``np.load`` et ``np.save``. Le tableau sera strictement identique après relecture."
   ]
  },
  {
   "cell_type": "code",
   "execution_count": 12,
   "id": "05fdb179",
   "metadata": {},
   "outputs": [
    {
     "name": "stdout",
     "output_type": "stream",
     "text": [
      "[1 2 4]\n"
     ]
    }
   ],
   "source": [
    "filename='test.npy'\n",
    "a = np.array([1, 2, 4])\n",
    "np.save(filename, a)\n",
    "new_a = np.load(filename)\n",
    "print(new_a)\n",
    "# a est toujours un tableau d'entier\n",
    "\n",
    "\n",
    "\n"
   ]
  },
  {
   "cell_type": "code",
   "execution_count": null,
   "id": "e1452cd2",
   "metadata": {},
   "outputs": [],
   "source": []
  }
 ],
 "metadata": {
  "kernelspec": {
   "display_name": "Python 3",
   "language": "python",
   "name": "python3"
  },
  "language_info": {
   "codemirror_mode": {
    "name": "ipython",
    "version": 3
   },
   "file_extension": ".py",
   "mimetype": "text/x-python",
   "name": "python",
   "nbconvert_exporter": "python",
   "pygments_lexer": "ipython3",
   "version": "3.8.8"
  },
  "varInspector": {
   "cols": {
    "lenName": 16,
    "lenType": 16,
    "lenVar": 40
   },
   "kernels_config": {
    "python": {
     "delete_cmd_postfix": "",
     "delete_cmd_prefix": "del ",
     "library": "var_list.py",
     "varRefreshCmd": "print(var_dic_list())"
    },
    "r": {
     "delete_cmd_postfix": ") ",
     "delete_cmd_prefix": "rm(",
     "library": "var_list.r",
     "varRefreshCmd": "cat(var_dic_list()) "
    }
   },
   "types_to_exclude": [
    "module",
    "function",
    "builtin_function_or_method",
    "instance",
    "_Feature"
   ],
   "window_display": false
  }
 },
 "nbformat": 4,
 "nbformat_minor": 5
}