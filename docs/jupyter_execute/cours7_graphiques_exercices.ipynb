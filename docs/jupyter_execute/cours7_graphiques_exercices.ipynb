{
 "cells": [
  {
   "cell_type": "markdown",
   "id": "ee916886",
   "metadata": {},
   "source": [
    "# Exercices sur les graphiques\n",
    "\n",
    "## Population\n",
    "\n",
    "À partir de la page [https://fr.wikipedia.org/wiki/D%C3%A9mographie_de_l%27Europe}(https://fr.wikipedia.org/wiki/D%C3%A9mographie_de_l%27Europe) et de la page [https://en.wikipedia.org/wiki/Demographics_of_France](https://en.wikipedia.org/wiki/Demographics_of_France) tracer sur un même graph la population du monde, de l'europe et de la france depuis 1800. "
   ]
  },
  {
   "cell_type": "code",
   "execution_count": 6,
   "id": "35343980",
   "metadata": {
    "tags": [
     "keep"
    ]
   },
   "outputs": [],
   "source": [
    "europe_annees = [1800, 1850, 1900, 1950, 1960, 1970, 1980, 1990, 2000, 2010, 2019]\n",
    "europe_population = [187000000 , 266000000 , 420000000 , 549329000 , 605407000 , 656919000 , 693567000 , 720858000 , 725558000 , 736413000 , 747183000]\n",
    "monde_population = [813000000, 1128000000, 1550000000, 2536431000 , 3034950000 , 3700437000 , 4458004000 , 5327231000 , 6143494000 , 6956824000 , 7713468000 , ]\n",
    "\n",
    "france_annees = [1806, 1821, 1831, 1841, 1851, 1872, 1881, 1891, 1901, 1911, 1921, 1931, 1946, 1950, 1960, 1970, 1980, 1990, 2000, 2010, 2020, 2022]\n",
    "france_population = [29107000, 30462000, 32569000, 34230000, 35783000, 36103000, 37672000, 38343000, 38962000, 39605000, 39108000, 41524000, 40125230, 41647258, 45464797, 50528219, 53731387, 56577000, 58858198, 62765235, 67287241, 67813396]"
   ]
  },
  {
   "cell_type": "markdown",
   "id": "c8aa0989",
   "metadata": {},
   "source": [
    "## Statistiques sur le COVID-19\n",
    "\n",
    "\n",
    "Le fichier {download}`data_covid.dat` contient trois colonnes : la première est la date, la seconde le nombre cumulé de décès en hôpital liés au COVID-19 et la troisième le nombre cumulé de décès en EHPAD liés au COVID-19.\n",
    "\n",
    "Le fichier commence le lundi 2 mars 2020. C'est l'origine de nos dates (jour 0). Dans la suite, on entend par date ou numéro du jour le nombre de jours écoulés depuis le 2 mars 2020. Ce fichier a été extrait de la base de donnée en janvier 2021 (il ne comprend donc que la première et début de la deuxième vague).\n",
    "\n",
    "1. Lire ce fichier à l'aide de la commande loadtxt, et extraire les trois colonnes dans trois variables."
   ]
  },
  {
   "cell_type": "markdown",
   "id": "f26992e2",
   "metadata": {},
   "source": [
    "2. Tracer le graphe du nombre de décès cumulé en hôpital et en EHPAD en fonction de la date."
   ]
  },
  {
   "cell_type": "markdown",
   "id": "f6bcabb6",
   "metadata": {},
   "source": [
    "3. Ajouter sur le même graph le nombre total de décés cumulé"
   ]
  },
  {
   "cell_type": "markdown",
   "id": "1dd06474",
   "metadata": {},
   "source": [
    "4. Au cours des 30 premiers jours, le nombre cumulé de décès en hôpital suit une loi proche d'une exponentielle. Tracer cette courbe en échelle semi-logarithmique."
   ]
  },
  {
   "cell_type": "markdown",
   "id": "b3802eca",
   "metadata": {},
   "source": [
    "5. Au cours de ces 30 premiers jours, le nombre de décès peut s'écrire $N(j) = N_0(1+a)^{j-j_0}$. Tracer cette courbe avec les paramètres pour lesquels elle s'ajuste bien à l'œil. Quelle est la valeur de $a$? (Nous ne demandons pas dans cette question de faire un ajustement, mais simplement de superposer les deux courbes)."
   ]
  },
  {
   "cell_type": "markdown",
   "id": "1c4a6352",
   "metadata": {},
   "source": [
    "6. Calculer le tableau du nombre quotidien de décès en hôpital et en EHPAD en fonction de la date. Et tracer la courbe pour l'hôpital. (Remarque, il est possible de faire cette opération sans boucle )"
   ]
  },
  {
   "cell_type": "markdown",
   "id": "97ad4caf",
   "metadata": {},
   "source": [
    "7. Quel jour a connu le plus grand nombre de décès en hôpital ? (on utilisera la fonction `argmax`)"
   ]
  },
  {
   "cell_type": "markdown",
   "id": "94120dfd",
   "metadata": {},
   "source": [
    "8. Combien de jours ont connu plus de 50 décés en EHPAD ?"
   ]
  },
  {
   "cell_type": "markdown",
   "id": "d6c09acf",
   "metadata": {},
   "source": [
    "9. Comment extraire en une ligne le nombre de décés pour un jour de la semaine donné ?"
   ]
  },
  {
   "cell_type": "markdown",
   "id": "4486c8df",
   "metadata": {},
   "source": [
    "10. Calculer et tracer le nombre total de décès en hôpital par jour de la semaine. Pour quel jour de la semaine enregistre-t-on le moins de décès ?"
   ]
  },
  {
   "cell_type": "markdown",
   "id": "5c582f8f",
   "metadata": {},
   "source": [
    "## Fonctions mathématiques\n",
    "\n",
    "Tracer la fonction $y(x) = exp(-x^2) sin(x)$ entre -5 et 5 et superposer la fonction $exp(-x^2) cos(x)$"
   ]
  },
  {
   "cell_type": "markdown",
   "id": "ff1ab024",
   "metadata": {},
   "source": [
    "## Graphique\n",
    "\n",
    "Reproduire le graphique ci dessous qui donne le résultat des electrions européenes de 2024.\n",
    "\n",
    "![alt text](europeene.jpg \"Title\")"
   ]
  }
 ],
 "metadata": {
  "celltoolbar": "Tags",
  "kernelspec": {
   "display_name": "Python 3",
   "language": "python",
   "name": "python3"
  },
  "language_info": {
   "codemirror_mode": {
    "name": "ipython",
    "version": 3
   },
   "file_extension": ".py",
   "mimetype": "text/x-python",
   "name": "python",
   "nbconvert_exporter": "python",
   "pygments_lexer": "ipython3",
   "version": "3.8.8"
  },
  "varInspector": {
   "cols": {
    "lenName": 16,
    "lenType": 16,
    "lenVar": 40
   },
   "kernels_config": {
    "python": {
     "delete_cmd_postfix": "",
     "delete_cmd_prefix": "del ",
     "library": "var_list.py",
     "varRefreshCmd": "print(var_dic_list())"
    },
    "r": {
     "delete_cmd_postfix": ") ",
     "delete_cmd_prefix": "rm(",
     "library": "var_list.r",
     "varRefreshCmd": "cat(var_dic_list()) "
    }
   },
   "types_to_exclude": [
    "module",
    "function",
    "builtin_function_or_method",
    "instance",
    "_Feature"
   ],
   "window_display": false
  }
 },
 "nbformat": 4,
 "nbformat_minor": 5
}