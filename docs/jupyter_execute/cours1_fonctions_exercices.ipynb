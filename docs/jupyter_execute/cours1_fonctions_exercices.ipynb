{
 "cells": [
  {
   "cell_type": "markdown",
   "id": "f5ca56dc",
   "metadata": {},
   "source": [
    "# Exercices\n",
    "\n",
    "## Fonctions mathématiques\n",
    "\n",
    "* Est ce que la fonction log est le logarithme décimal ou népérien ?\n",
    "* Calculer $x = \\sqrt{2}$ puis calculer $x^2$. Que se passe-t-il ?\n",
    "* Calculer $\\arccos{\\frac{\\sqrt{2}}{2}}$ et comparer à sa valeur théorique."
   ]
  },
  {
   "cell_type": "markdown",
   "id": "78ec7f1a",
   "metadata": {},
   "source": [
    "## Fonction datetime\n",
    "\n",
    "Importer la fonction ``datetime`` du module ``datetime`` et regarder se documentation. \n",
    "\n",
    "1. Utiliser cette fonction pour entrer votre date de naissance (et l'heure si vous la connaissez) en nomant explicitement les arguments. \n",
    "2. Même question mais après avoir mis les arguments dans une liste\n",
    "3. Dans un dictionnaire\n",
    "\n",
    "\n",
    "## Fonction date en français\n",
    "\n",
    "1. Ecrire une fonction ``date_en_francais`` qui renvoie un objet ``date`` mais dont les arguments sont en français (``annee``, ``mois``, ``jours``) \n",
    "2. Idem avec le fonction ``datetime`` (il faudra rajouter les arguments optionels ``heure``, ``minute``, ``seconde``) \n",
    "\n",
    "## Fonction cos_deg\n",
    "\n",
    "Ecrire une fonction qui renvoit le cosinus d'un angle exprimé en degré\n",
    "\n",
    "\n",
    "## Volume d'un cône\n",
    "\n",
    "1/ Ecrire une fonction qui renoit le volume d'un cône de rayon $r$ et hauteur $h$.\n",
    "2/ Ecrire une fonction qui envoit le volume d'un tronc de cône de rayon $r_1$ et $r_2$. \n",
    "3/ Ecrire une seule fonction pour laquelle le tronc de cône est par défaut un cône (i.e. $r_2=1$)\n",
    "\n",
    "## Polynômes\n",
    "\n",
    "On considère un polynôme de degrés $n$ : $a_0 + a_1x + a_2x^2 + ... + a_n x^n$. \n",
    "\n",
    "1. Ecrire une fonction ``eval_polynome_troisieme_degres(x, a_0, a_1, a_2,a_3)`` qui évalue un tel polynôme en $x$. \n",
    "2. Ecrire une fonction qui permettra d'évaluer un polynôme de degré inférieur à 4 est que l'on pourra utiliser de la façon suivante : \n",
    "\n",
    "        eval_polynome(x, 3, 4) # 3x + 4\n",
    "        eval_polynome(x, a_0=2, a_2=4) # 4x^2 + 4\n",
    "    \n",
    "3. Faire en sorte que cette fonction marche pour n'importe quel degré. \n",
    "    \n",
    "\n",
    "## Equation du second degré\n",
    "\n",
    "On souhaite trouver les solutions de l’équation : $ax^2 + bx + c$. On rappelle que pour cela on calcule le discriminant $\\Delta = b^2 - 4*a*c$. \n",
    "- Si $\\Delta>0$, les solutions sont $\\frac{-b \\pm \\sqrt{Delta}}{2a}$\n",
    "- Si $\\Delta=0$, il y a une solution (double) $\\frac{-b }{2a}$\n",
    "- Si $\\Delta<0$, les solutions sont $\\frac{-b \\pm i\\sqrt{Delta}}{2a}$\n",
    "\n",
    "1. Ecrire une fonction equation_second_degre qui donne les solutions.\n",
    "2. Tester l’équation $x^2 -3x + 2$\n",
    "3. Ecrire une fonction qui résout une équation du premier degré.\n",
    "4. Faire en sorte que cette fonction soit appelée lorsque $a=0$.  \n",
    "\n",
    "## Coordonnée polaire d'un nombre complexe\n",
    "\n",
    "On considère une nombre complexe $z$ et sa représentation polaire : $z = re^{i\\theta}$\n",
    "\n",
    "1. Ecrire une fonction qui à partir de $r$ et $\\theta$ renvoie $z$\n",
    "2. Ecrire une fonction qui renvoie $r$ et $\\theta$ en fonction de $z$. On choisira $\\theta \\in ]-\\pi, \\pi]$. \n",
    "\n",
    "On utilsera la fonction ``atan`` du module ``math``. Tester votre code\n",
    "\n",
    "## Nombre premier \n",
    "\n",
    "Ecrire une fonction qui renvoie True si un nombre est premier et False sinon. Pour cela, on testera si le nombre\n",
    "est divisible par les entiers successifs à partir de 2.\n",
    "\n",
    "* Montrez que si $n$ n’est pas premier, alors il existe un entier tel que $𝑝^2 \\le 𝑛$ qui est un diviseur de 𝑛.\n",
    "* Ecrire la fonction à l’aide d’une boucle.\n",
    "* Combien y a t-il d’années au XXIème siècle qui sont des nombres premiers ?\n",
    "\n",
    "## Fonction pour loguer des données\n",
    "\n",
    "Lorsque l'on devellope un programme, il est souvent utile de pouvoir garder une trace de l'excution de celui ci. Cela peut se faire soit en affichant un message, soit en sauvant celui-ci dans un fichier. \n",
    "\n",
    "Pour écrire un message dans un fichier, on peut utiliser les lignes suivante :\n",
    "\n",
    "    with open(filename, 'a') as f:\n",
    "        f.writeln(message)\n",
    "\n",
    "où ``filename`` est le nom du ficher et message une chaîne de caractère. \n",
    "\n",
    "Ecrire une fonction qui par défaut affiche le message (``print``) et le sauve dans un fichier si celui-ci est donnée comme argument optionel. \n",
    "\n"
   ]
  },
  {
   "cell_type": "markdown",
   "id": "8e2f714d",
   "metadata": {},
   "source": [
    "## Que fait cette fonction ? \n",
    "\n",
    "1. On souhaite calculer $\\sum \\frac{1}{i}$. Quelle est la différence entre les différentes fonctions si dessous ? Laquelle est la 'bonne' fonction"
   ]
  },
  {
   "cell_type": "markdown",
   "id": "d0c33767",
   "metadata": {},
   "source": [
    "2. Parmis tous les appels de la fonction ``f`` ci dessous, lequels font faire une erreur ? Quelle sera l'erreur ?"
   ]
  }
 ],
 "metadata": {
  "kernelspec": {
   "display_name": "Python 3",
   "language": "python",
   "name": "python3"
  },
  "language_info": {
   "codemirror_mode": {
    "name": "ipython",
    "version": 3
   },
   "file_extension": ".py",
   "mimetype": "text/x-python",
   "name": "python",
   "nbconvert_exporter": "python",
   "pygments_lexer": "ipython3",
   "version": "3.8.8"
  },
  "varInspector": {
   "cols": {
    "lenName": 16,
    "lenType": 16,
    "lenVar": 40
   },
   "kernels_config": {
    "python": {
     "delete_cmd_postfix": "",
     "delete_cmd_prefix": "del ",
     "library": "var_list.py",
     "varRefreshCmd": "print(var_dic_list())"
    },
    "r": {
     "delete_cmd_postfix": ") ",
     "delete_cmd_prefix": "rm(",
     "library": "var_list.r",
     "varRefreshCmd": "cat(var_dic_list()) "
    }
   },
   "types_to_exclude": [
    "module",
    "function",
    "builtin_function_or_method",
    "instance",
    "_Feature"
   ],
   "window_display": false
  }
 },
 "nbformat": 4,
 "nbformat_minor": 5
}