{
 "cells": [
  {
   "cell_type": "markdown",
   "id": "88a3ddef",
   "metadata": {},
   "source": [
    "# Exercices sur les conteneurs\n",
    "\n",
    "## Manipulation des listes\n",
    "\n",
    "On considère la liste [1, 5, 3, 5, 6, 2]\n",
    "\n",
    "1. Écrire une fonction 'somme' qui renvoie la somme des éléments d'une liste de nombres. On fera explicitement la boucle for. \n",
    "\n",
    "2. Écrire une fonction 'maximum' qui renvoie le maximum des éléments d'une liste de nombres. On fera explicitement la boucle for. \n",
    "\n",
    "3. Écrire une fonction 'arg_maximum' qui renvoie l'indice du maximum d'une liste de nombres. On fera explicitement la boucle for. \n",
    "\n",
    "\n",
    "4. Écrire une fonction 'trouve' qui renvoie l'indice correspondant à l'argument. On fera explicitement la boucle for. \n",
    "\n",
    "5. Comment répondre aux question 1, 2, 4 en utilisant des fonctions déjà existantes ?"
   ]
  },
  {
   "cell_type": "markdown",
   "id": "d3e1be94",
   "metadata": {},
   "source": [
    "## Liste comprehension\n",
    "\n",
    "1. Créer une liste nomée ``nombres`` contenant les entier de 0 à 9 inclus\n",
    "\n",
    "2. Créer une liste contenant la racince carré des éléments de ``nombres`` (on utilisera une comprehension de liste)\n",
    "\n",
    "3. Créer une liste contenant tous les nombres pairs de la listes ``nombres`` (on utilisera une comprehension de liste)\n",
    "\n",
    "4. Toujours en utilisant un comprehension de liste, considérant deux listes ``l1`` et ``l2``, créer une nouvelle liste contenant les couples pris deux à deux de l1 et l2. On supposera que les deux liste ont la même longueur. Quelle fonction python fait la même chose ?\n",
    "\n",
    "5. En utilisant la fonction de la question 4 et la liste de la question 2 vérifier que l'on a bien $y=x^2$ pour chaque élément. "
   ]
  },
  {
   "cell_type": "markdown",
   "id": "bf83c877",
   "metadata": {},
   "source": [
    "## Exercice de base sur les dictionnaires\n",
    "\n",
    "1. Tout d'abord, nous allons créer un petit dictionnaire qui contient des informations sur un étudiant. Utilisons les clés et valeurs suivantes en exemple :\n",
    "   - 'nom': 'Jean Dupont'\n",
    "   - 'âge': 20\n",
    "   - 'filière': 'Informatique'\n",
    "\n",
    "2. Modifier l'age pour qu'il soit égal à 21\n",
    "\n",
    "3. Afficher le genre de l'étudiant si il possède un telle clé sinon afficher un message"
   ]
  },
  {
   "cell_type": "markdown",
   "id": "0bf74319",
   "metadata": {},
   "source": [
    "## Exercice sur les ensembles\n",
    "\n",
    "La fonction chr permet de convertir un code ASCII en un caractère. La liste des lettres majuscules peut être obtenue à partir de la commande suivante : "
   ]
  },
  {
   "cell_type": "code",
   "execution_count": 19,
   "id": "f0c73a7a",
   "metadata": {
    "tags": [
     "keep"
    ]
   },
   "outputs": [],
   "source": [
    "liste_majuscules = [chr(65+i) for i in range(26)]"
   ]
  },
  {
   "cell_type": "markdown",
   "id": "548a21f1",
   "metadata": {},
   "source": [
    "On souhaite vérifier qu'un mot de passe entré par un utilisateur est sufisament compliqué. Voici les règles : \n",
    "* Il doit contenir 12 caractères différents\n",
    "* Il doit contenir au moins 2 majuscules différentes\n",
    "* Il doit contenir au moins un caractère de ponctuation ``.,;:!?``\n",
    "* Il ne doit pas contenir d'espace\n",
    "\n",
    "Ecrire une fonction qui renvoie True si toutes les conditions sont vérifiées et False sinon"
   ]
  }
 ],
 "metadata": {
  "celltoolbar": "Tags",
  "kernelspec": {
   "display_name": "Python 3",
   "language": "python",
   "name": "python3"
  },
  "language_info": {
   "codemirror_mode": {
    "name": "ipython",
    "version": 3
   },
   "file_extension": ".py",
   "mimetype": "text/x-python",
   "name": "python",
   "nbconvert_exporter": "python",
   "pygments_lexer": "ipython3",
   "version": "3.8.8"
  },
  "varInspector": {
   "cols": {
    "lenName": 16,
    "lenType": 16,
    "lenVar": 40
   },
   "kernels_config": {
    "python": {
     "delete_cmd_postfix": "",
     "delete_cmd_prefix": "del ",
     "library": "var_list.py",
     "varRefreshCmd": "print(var_dic_list())"
    },
    "r": {
     "delete_cmd_postfix": ") ",
     "delete_cmd_prefix": "rm(",
     "library": "var_list.r",
     "varRefreshCmd": "cat(var_dic_list()) "
    }
   },
   "types_to_exclude": [
    "module",
    "function",
    "builtin_function_or_method",
    "instance",
    "_Feature"
   ],
   "window_display": false
  }
 },
 "nbformat": 4,
 "nbformat_minor": 5
}